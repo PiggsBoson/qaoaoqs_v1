{
 "cells": [
  {
   "cell_type": "code",
   "execution_count": 1,
   "metadata": {},
   "outputs": [],
   "source": [
    "import matplotlib.pyplot as plt\n",
    "import numpy as np"
   ]
  },
  {
   "cell_type": "code",
   "execution_count": 2,
   "metadata": {},
   "outputs": [],
   "source": [
    "grad_rot=  [float(n) for n in \"-4.76732227e-04  5.10330775e-04 -9.27376198e-05  7.72947257e-04  1.10018959e-03  9.62239547e-04  6.73110898e-04  7.33280963e-04  3.20212096e-04 -3.69987519e-04 -4.18934168e-04 -1.03621745e-03 -5.32331416e-04 -7.38851014e-04 -6.59673334e-04  9.58097191e-05 -2.35000939e-04  3.82933070e-04  9.85533489e-05 -1.30192633e-04 -1.33981135e-04  2.34987928e-04  3.06147094e-04  2.73008161e-04  1.48576759e-04  5.66569372e-05 -3.48146856e-04 -4.75447724e-04  5.10726192e-04 -5.42987554e-04  2.35943698e-04  4.09925440e-04  2.98714292e-04  8.14511664e-04 -6.30301588e-05  5.40155775e-04 -3.66714828e-04 -7.15407802e-04 -3.18655659e-04 -1.48075484e-03\".split()]\n",
    "\n",
    "Heis_eig_rot=  [float(n) for n in \"\"\"-8.31079949e+01 -7.60800571e+01 -5.83836049e+01 -5.41248041e+01\n",
    " -4.27333426e+01 -3.67714972e+01 -3.01913506e+01 -2.96902348e+01\n",
    " -2.35065114e+01 -2.14168511e+01 -1.76199203e+01 -1.44994214e+01\n",
    " -1.27215197e+01 -1.24530394e+01 -1.09574118e+01 -1.05515697e+01\n",
    " -6.76965606e+00 -6.60950842e+00 -6.25890920e+00 -4.65906771e+00\n",
    " -4.22230942e+00 -3.74785468e+00 -3.11005202e+00 -1.88984116e+00\n",
    " -1.44557178e+00 -1.00190424e+00 -9.02270897e-01 -7.32772411e-01\n",
    " -5.09559961e-01 -3.63802076e-01  2.83992513e-03 -1.79537320e-03\n",
    "  1.66367885e-03 -1.16126047e-03  1.11286307e-03 -5.83063416e-04\n",
    " -2.53550017e-04  1.68512198e-08  3.72790163e-04  1.89823072e-04\"\"\".split()]"
   ]
  },
  {
   "cell_type": "code",
   "execution_count": 3,
   "metadata": {},
   "outputs": [],
   "source": [
    "grad_weak=  [float(n) for n in \"1.79148973e-04  2.05656391e-04 -4.32415045e-04  5.32516161e-04 -5.93540048e-04  4.72940171e-04 -4.49729458e-04  2.15859353e-04 -1.32845042e-04 -1.38361126e-04  2.21895069e-04 -2.23709639e-04  2.17333155e-04 -1.10425512e-04  1.06053889e-04 -2.29259930e-04  4.50690527e-04 -7.51488314e-04  9.07313695e-04 -9.02390727e-04  6.94836888e-04 -4.00555410e-04  1.19360122e-04  6.21771782e-05 -2.23661743e-04  1.83499083e-04 -3.02175041e-04  2.50672595e-04 -4.69734049e-04  5.66081914e-04 -7.45276022e-04  7.18559657e-04 -6.10954931e-04  2.65171678e-04  9.57618798e-05 -4.83028962e-04  6.23808201e-04 -6.42063135e-04  2.77334586e-04  1.36900714e-04\".split()]\n",
    "\n",
    "Heis_eig_weak = [float(n) for n in \"\"\"-1.61842364e+02 -1.31323184e+02 -4.62331898e+01 -1.82000205e-01\n",
    " -1.09818032e-01 -9.62588944e-02 -7.90371411e-02 -2.08880924e-02\n",
    " -3.75072198e-03 -2.61524291e-03 -1.75644330e-03  1.26782137e-03\n",
    " -1.13852712e-03  9.96685622e-04 -1.00622932e-03 -7.54973221e-04\n",
    " -7.35380609e-04  6.87583202e-04 -6.40005388e-04  6.27001745e-04\n",
    " -5.75038015e-04 -5.29953018e-04 -3.94601066e-04 -3.92343124e-04\n",
    " -2.71335079e-04 -2.10301496e-04  5.13300745e-04  4.55916828e-04\n",
    " -5.30683277e-05 -2.27383359e-05  2.08019859e-06  4.04957956e-04\n",
    "  6.83608292e-05  1.05108387e-04  3.17854376e-04  3.24376349e-04\n",
    "  2.67965553e-04  2.02998924e-04  2.13503387e-04  2.32548173e-04\"\"\".split()]"
   ]
  },
  {
   "cell_type": "code",
   "execution_count": 4,
   "metadata": {},
   "outputs": [],
   "source": [
    "grad_lab_weak=  [float(n) for n in \"\"\"-1.02483445e-04 -3.16380441e-04 -4.49204067e-04 -6.55428410e-04\n",
    "  3.40830301e-04 -4.73019891e-04 -2.15903055e-04  9.72921151e-04\n",
    " -3.00289341e-04 -2.28764636e-04  1.13514085e-03 -5.33020646e-04\n",
    "  5.27315185e-04  4.39372656e-05 -3.55768325e-04 -4.01068915e-04\n",
    "  1.28863003e-03 -2.24550493e-03  1.84382548e-03 -1.35577958e-03\n",
    " -8.40752165e-04  1.42103339e-03 -1.98825727e-03  1.21381157e-03\n",
    " -6.80936107e-04 -1.16909315e-04 -7.67644613e-05  7.89271688e-04\n",
    " -7.02527367e-04  1.46912439e-03 -2.18700001e-04 -1.24251858e-04\n",
    "  1.05123436e-03 -1.62476411e-04 -2.44563690e-04  4.21515285e-04\n",
    " -9.82888375e-04 -6.03569747e-05 -5.72761452e-04 -5.81006475e-05\"\"\".split()]\n",
    "\n",
    "Heis_eig_lab_weak=  [float(n) for n in \"\"\"-1.59018647e+02 -1.36347017e+02 -4.34701036e+01 -2.34782264e-01\n",
    " -2.49003955e-01 -1.33775664e-01 -6.00799450e-02 -5.29862392e-02\n",
    " -2.70612285e-02 -2.34001269e-02 -1.48507319e-02  1.28972659e-02\n",
    " -8.20565920e-03 -6.96454033e-03  1.12266882e-02  8.86090702e-03\n",
    "  7.38228784e-03 -1.92836662e-03 -1.75290325e-03  6.41737013e-03\n",
    " -1.00164574e-03 -5.02867285e-04  5.54221649e-03  5.41130333e-03\n",
    "  1.14679979e-04  4.57840198e-03  4.15626448e-03  8.36816560e-04\n",
    "  9.76728870e-04  1.19351538e-03  3.70450495e-03  3.47322962e-03\n",
    "  3.26627503e-03  3.08706971e-03  2.68619483e-03  2.57857001e-03\n",
    "  1.80980203e-03  1.89741375e-03  2.00766333e-03  2.29596691e-03\"\"\".split()]"
   ]
  },
  {
   "cell_type": "code",
   "execution_count": 5,
   "metadata": {},
   "outputs": [],
   "source": [
    "grad_lab=  [float(n) for n in \"\"\"7.11034492e-05 -3.78453779e-04 -2.59736933e-04 -1.01443382e-04\n",
    " -4.01001004e-04  3.25299988e-04  1.38958266e-04  1.55253459e-04\n",
    " -1.14432150e-04 -4.50972871e-04  1.38205105e-04 -4.71543992e-04\n",
    " -2.62814362e-04  3.76155319e-04 -7.76974119e-04  9.40657082e-05\n",
    "  1.45633779e-03  2.11441577e-04 -1.30766157e-04  6.61662951e-04\n",
    " -7.78829811e-04 -1.55415651e-04  6.48753696e-04 -8.14173490e-04\n",
    " -3.47968117e-04  4.99415858e-06 -2.98876751e-04 -3.05308748e-04\n",
    "  2.71923357e-04  1.08261746e-04 -4.05198848e-04  9.53261932e-04\n",
    "  2.49779598e-04 -6.18733886e-04  8.20567548e-04 -4.27815167e-04\n",
    " -6.61985496e-04  8.16429222e-04 -7.80662920e-07  1.36921892e-04\"\"\".split()]\n",
    "\n",
    "Heis_eig_lab=  [float(n) for n in \"\"\"-7.08323288e+01 -5.64835766e+01 -5.56098857e+01 -4.93501843e+01\n",
    " -3.92637530e+01 -3.54199649e+01 -3.35586456e+01 -2.56612166e+01\n",
    " -2.48726763e+01 -2.01771327e+01 -1.69758865e+01 -1.56749798e+01\n",
    " -1.33311110e+01 -1.30495084e+01 -1.07956149e+01 -9.05170219e+00\n",
    " -8.55707786e+00 -8.06365885e+00 -6.59638372e+00 -6.05527413e+00\n",
    " -4.55103265e+00 -4.29993164e+00 -3.60880140e+00 -2.94031926e+00\n",
    " -2.66408995e+00 -2.20231680e+00 -1.58976074e+00 -1.33309691e+00\n",
    " -7.76710313e-01 -3.34326929e-01 -1.25046961e-01 -9.00027606e-02\n",
    " -4.84147352e-02 -3.10993797e-02  2.09009860e-03  9.87591521e-05\n",
    " -5.29647218e-04 -6.05211399e-03 -7.88039750e-03 -2.31640324e-02\"\"\".split()]"
   ]
  },
  {
   "cell_type": "code",
   "execution_count": 6,
   "metadata": {},
   "outputs": [
    {
     "name": "stdout",
     "output_type": "stream",
     "text": [
      "Isotropic Heisenberg couplings\n",
      "The l-infinity norm (maximum of absolute value) of the gradient and number of nagative eigenvalues of the Hessian matrix out of 40\n",
      "Rotating frame, strong couplings (six 9s fidelity)\n",
      "0.00148075484\n",
      "34\n",
      "Lab frame, strong couplings (Four 9s fidelity)\n",
      "0.00145633779\n",
      "38\n",
      "Rotating frame, weak couplings (Four 9s fidelity)\n",
      "0.000907313695\n",
      "24\n",
      "Lab frame, weak couplings (Four 9s fidelity)\n",
      "0.00224550493\n",
      "17\n"
     ]
    }
   ],
   "source": [
    "print(\"Isotropic Heisenberg couplings\")\n",
    "print(\"The l-infinity norm (maximum of absolute value) of the gradient and number of nagative eigenvalues of the Hessian matrix out of 40\")\n",
    "print(\"Rotating frame, strong couplings (six 9s fidelity)\")\n",
    "print(np.linalg.norm(grad_rot, ord=np.inf))\n",
    "print(np.sum(np.array(Heis_eig_rot)<0))\n",
    "\n",
    "print(\"Lab frame, strong couplings (Four 9s fidelity)\")\n",
    "print(np.linalg.norm(grad_lab, ord=np.inf))\n",
    "print(np.sum(np.array(Heis_eig_lab)<0))\n",
    "\n",
    "print(\"Rotating frame, weak couplings (Four 9s fidelity)\")\n",
    "print(np.linalg.norm(grad_weak, ord=np.inf))\n",
    "print(np.sum(np.array(Heis_eig_weak)<0))\n",
    "\n",
    "print(\"Lab frame, weak couplings (Four 9s fidelity)\")\n",
    "print(np.linalg.norm(grad_lab_weak, ord=np.inf))\n",
    "print(np.sum(np.array(Heis_eig_lab_weak)<0))"
   ]
  },
  {
   "cell_type": "code",
   "execution_count": 7,
   "metadata": {},
   "outputs": [],
   "source": [
    "import matplotlib.pyplot as plt"
   ]
  },
  {
   "cell_type": "code",
   "execution_count": 11,
   "metadata": {},
   "outputs": [
    {
     "data": {
      "image/png": "[encoded data removed]",
      "text/plain": [
       "<Figure size 432x288 with 1 Axes>"
      ]
     },
     "metadata": {
      "needs_background": "light"
     },
     "output_type": "display_data"
    }
   ],
   "source": [
    "plt.scatter(range(40),Heis_eig_lab_weak)\n",
    "plt.xlabel(\"Eigenvalues\")\n",
    "plt.ylabel(\"Magnitude\")\n",
    "plt.grid()\n",
    "plt.show()"
   ]
  },
  {
   "cell_type": "code",
   "execution_count": 32,
   "metadata": {},
   "outputs": [
    {
     "data": {
      "image/png": "[encoded data removed]",
      "text/plain": [
       "<Figure size 720x504 with 1 Axes>"
      ]
     },
     "metadata": {
      "needs_background": "light"
     },
     "output_type": "display_data"
    },
    {
     "name": "stdout",
     "output_type": "stream",
     "text": [
      "0.00034317632760000024\n",
      "-0.00033804225399999995\n",
      "-0.0019442708309\n"
     ]
    }
   ],
   "source": [
    "bins=np.concatenate((-np.logspace(-2.5,-4.5, 20),np.logspace(-4.5,-2.5, 20)))\n",
    "fig, ax = plt.subplots(figsize =(10, 7))\n",
    "ax.hist([grad_rot,grad_weak,grad_lab_weak], label=[\"rot\",\"weak\",\"labWeak\"],bins=bins)\n",
    "# ax.hist(grad_weak,label='2',bins=bins) \n",
    "# ax.hist(grad_lab_weak,label='3',bins=bins)\n",
    "ax.set_xscale(\"symlog\",linthresh=1e-3) \n",
    "plt.legend()\n",
    "plt.show()\n",
    "\n",
    "print(sum(grad_rot))\n",
    "print(sum(grad_weak))\n",
    "print(sum(grad_lab_weak))"
   ]
  },
  {
   "cell_type": "code",
   "execution_count": 33,
   "metadata": {},
   "outputs": [
    {
     "data": {
      "image/png": "[encoded data removed]",
      "text/plain": [
       "<Figure size 720x504 with 1 Axes>"
      ]
     },
     "metadata": {
      "needs_background": "light"
     },
     "output_type": "display_data"
    },
    {
     "name": "stdout",
     "output_type": "stream",
     "text": [
      "-577.0298251849666\n",
      "-339.8948990035647\n"
     ]
    }
   ],
   "source": [
    "fig, ax = plt.subplots(figsize =(10, 7))\n",
    "ax.hist(Heis_eig_rot, label='1')\n",
    "ax.hist(Heis_eig_weak,label='2') \n",
    "plt.legend()\n",
    "plt.show()\n",
    "\n",
    "print(sum(Heis_eig_rot))\n",
    "print(sum(Heis_eig_weak))"
   ]
  },
  {
   "cell_type": "code",
   "execution_count": 34,
   "metadata": {},
   "outputs": [
    {
     "name": "stdout",
     "output_type": "stream",
     "text": [
      "<class 'numpy.ndarray'>\n"
     ]
    }
   ],
   "source": [
    "import numpy as np\n",
    "import numdifftools as nd\n",
    "\n",
    "rosen = lambda x : (1.-x[0])**2 + 105*(x[1]-x[0]**2)**2\n",
    "Hfun = nd.Hessian(rosen)\n",
    "h = Hfun([1, 1])\n",
    "print(type(h))"
   ]
  },
  {
   "cell_type": "code",
   "execution_count": 35,
   "metadata": {},
   "outputs": [
    {
     "data": {
      "text/plain": [
       "array([[ 842., -420.],\n",
       "       [-420.,  210.]])"
      ]
     },
     "execution_count": 35,
     "metadata": {},
     "output_type": "execute_result"
    }
   ],
   "source": [
    "h"
   ]
  },
  {
   "cell_type": "code",
   "execution_count": null,
   "metadata": {},
   "outputs": [],
   "source": []
  }
 ],
 "metadata": {
  "kernelspec": {
   "display_name": "base",
   "language": "python",
   "name": "python3"
  },
  "language_info": {
   "codemirror_mode": {
    "name": "ipython",
    "version": 3
   },
   "file_extension": ".py",
   "mimetype": "text/x-python",
   "name": "python",
   "nbconvert_exporter": "python",
   "pygments_lexer": "ipython3",
   "version": "3.7.7"
  },
  "orig_nbformat": 4,
  "vscode": {
   "interpreter": {
    "hash": "702350541321a2f0d6ee5689c760d1f3e12a6e5a69204819bb813b28aabd20d3"
   }
  }
 },
 "nbformat": 4,
 "nbformat_minor": 2
}
