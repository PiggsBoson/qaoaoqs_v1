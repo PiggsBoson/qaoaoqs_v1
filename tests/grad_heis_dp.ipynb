{
 "cells": [
  {
   "cell_type": "code",
   "execution_count": 16,
   "metadata": {},
   "outputs": [],
   "source": [
    "import matplotlib.pyplot as plt\n",
    "import numpy as np"
   ]
  },
  {
   "cell_type": "code",
   "execution_count": 12,
   "metadata": {},
   "outputs": [],
   "source": [
    "grad_rot=  [float(n) for n in \"\"\"1.07061174e-03  7.39894655e-04  1.27155866e-03  8.35693133e-04\n",
    "  7.69790820e-05 -2.89424374e-04 -1.34489768e-03 -1.21371114e-03\n",
    " -1.21465305e-03 -1.27809982e-04  2.19080220e-04  1.00958029e-03\n",
    "  1.10607567e-03  4.37689301e-04 -2.49901826e-04 -7.38106191e-04\n",
    " -1.07412195e-03 -7.30268978e-04 -7.80602398e-04  1.87810931e-04\n",
    "  3.52184876e-04  9.45955578e-04  7.97554665e-04  2.98682346e-04\n",
    "  3.54886887e-04 -5.87101330e-04 -1.82189845e-04 -1.20236153e-03\n",
    " -3.08714982e-04 -5.57542480e-04 -8.83929663e-05  3.00517208e-04\n",
    "  2.92647935e-04  1.23029094e-03  6.45046797e-04  9.17620539e-04\n",
    "  1.80357023e-05 -3.47236162e-04 -1.05324310e-03 -1.13139146e-03\n",
    " -8.82362087e-04 -4.36711114e-04  1.81987228e-04  4.32818128e-04\n",
    "  4.08806943e-04  5.42943155e-04  4.61533602e-05 -2.73069123e-04\n",
    " -3.47102647e-04 -6.07589434e-04 -2.06974510e-04 -8.35275208e-04\n",
    " -2.88554006e-05 -8.00662755e-04  1.88107729e-04 -1.86346522e-04\n",
    "  3.79012347e-04  8.59412876e-04  6.41364426e-04  6.49292252e-04\"\"\".split()]\n",
    "\n",
    "Heis_eig_rot=  [float(n) for n in \"\"\"-4.47380953e+02 -4.04676811e+02 -3.54924739e+02 -2.70816341e+02\n",
    " -2.22211917e+02 -8.87882691e+01 -5.19411251e+01 -4.76571629e+01\n",
    " -4.29263975e+01 -4.04188733e+01 -3.24953693e+01 -2.95319142e+01\n",
    " -2.28712187e+01 -1.56825665e+01 -1.34677122e+01 -1.13903563e+01\n",
    " -1.23934032e+01 -8.51144045e+00 -5.80783542e+00 -7.09618616e+00\n",
    " -1.38940224e+00  1.72231782e-02  1.20018407e-02 -1.08539222e-02\n",
    " -9.58232235e-03 -7.96300183e-03  6.53953403e-03 -6.87528492e-03\n",
    " -5.32304922e-03  4.60288594e-03  3.76671992e-03 -3.54828171e-03\n",
    " -3.34621288e-03  2.29123966e-03 -2.83843767e-03  1.80791555e-03\n",
    " -2.40019519e-03 -2.33996401e-03  1.60323829e-03 -2.03670716e-03\n",
    " -1.87007680e-03 -1.55549412e-03  1.33488385e-03 -1.32616192e-03\n",
    " -1.20023063e-03  1.17848475e-03  1.04649326e-03  8.53497631e-04\n",
    " -8.90114338e-04  5.77328075e-04  4.91977647e-04 -7.03123290e-04\n",
    "  2.46462947e-04  1.88131390e-04 -4.51670207e-04 -4.17590509e-04\n",
    " -2.97404115e-04  2.55330558e-06  7.77322876e-09 -1.52896994e-04\"\"\".split()]"
   ]
  },
  {
   "cell_type": "code",
   "execution_count": 13,
   "metadata": {},
   "outputs": [],
   "source": [
    "grad_weak=  [float(n) for n in \"\"\"2.44856475e-04 -3.35911616e-04  1.63357775e-04 -2.27089214e-04\n",
    "  2.47015532e-05 -4.48100575e-05 -1.50585342e-04  1.31813003e-04\n",
    " -2.61076614e-04  1.81094257e-04 -2.06726574e-04  6.95176851e-05\n",
    " -5.48064379e-05 -1.24468199e-04  1.57940698e-04 -3.40291285e-04\n",
    "  3.76954697e-04 -5.17299277e-04  4.63915077e-04 -5.13403226e-04\n",
    "  3.47617037e-04 -3.27528002e-04  1.11943489e-04 -5.89394437e-05\n",
    " -1.42800343e-04  1.89184265e-04 -3.21454163e-04  3.15275429e-04\n",
    " -3.45643612e-04  2.72337995e-04 -2.22633042e-04  8.66847990e-05\n",
    "  8.82343740e-06 -1.90366432e-04  3.32829300e-04 -4.84190554e-04\n",
    "  5.55188567e-04 -6.15151990e-04  5.58888962e-04 -5.12029746e-04\n",
    "  3.45723821e-04 -1.87549389e-04 -2.61220328e-07  2.12827373e-04\n",
    " -3.46863937e-04  5.17432023e-04 -5.36208308e-04  6.10339766e-04\n",
    " -4.98809901e-04  4.59135029e-04 -2.35963394e-04  1.14687171e-04\n",
    "  1.76680130e-04 -2.87705659e-04  5.33098757e-04 -5.44502055e-04\n",
    "  6.55291504e-04 -5.22071161e-04  4.58136843e-04 -2.22124648e-04\n",
    "  4.01523664e-05  2.55278640e-04 -4.05475254e-04  6.50447862e-04\n",
    " -6.88176850e-04  8.33551295e-04 -7.05399402e-04  7.01110134e-04\n",
    " -4.30245558e-04  3.19213535e-04  2.46690454e-06 -1.28043333e-04\n",
    "  4.22915793e-04 -4.52268988e-04  6.43227436e-04 -5.06094754e-04\n",
    "  5.14871134e-04 -2.20080240e-04  9.99750871e-05  2.38478033e-04\"\"\".split()]\n",
    "\n",
    "Heis_eig_weak = [float(n) for n in \"\"\"-3.07252366e+02 -2.53487814e+02 -1.02394395e+02 -1.25884102e-01\n",
    " -4.08324350e-02 -2.00252770e-02 -1.31932469e-02  1.01560936e-02\n",
    "  8.42243247e-03 -6.80925991e-03  6.20286245e-03  4.37712985e-03\n",
    "  3.44020099e-03 -2.81276417e-03  2.76434401e-03 -1.66073506e-03\n",
    "  2.07488510e-03  1.92035589e-03  1.57824387e-03 -8.83359741e-04\n",
    "  1.47918569e-03  1.34194149e-03  1.28031126e-03  1.19846571e-03\n",
    " -7.55360873e-04  1.06339952e-03 -6.34651761e-04  9.51029440e-04\n",
    "  8.97014203e-04  8.37504191e-04  8.25845730e-04 -4.80946424e-04\n",
    "  7.36475429e-04 -4.24972214e-04 -3.88252759e-04 -3.38660177e-04\n",
    " -3.47790333e-04  7.18495065e-04  7.03297213e-04  6.80536294e-04\n",
    "  6.53876307e-04  6.11059219e-04 -2.70148038e-04 -2.56178317e-04\n",
    "  5.82687325e-04  5.44126041e-04  5.32593994e-04 -1.98881030e-04\n",
    " -1.87727945e-04  4.91409882e-04  4.74999770e-04  4.81305953e-04\n",
    " -1.48032129e-04 -1.24829915e-04  4.27560225e-04  4.02119826e-04\n",
    "  3.64742602e-04  3.28599125e-04 -4.65158336e-05  2.93338250e-04\n",
    " -2.04420589e-05 -7.90024495e-06 -5.33491856e-07  1.44636542e-05\n",
    "  2.53618776e-04  2.52004495e-04  2.49243484e-04  2.58184106e-05\n",
    "  1.55882196e-04  1.27641736e-04  3.94788836e-05  8.26414796e-05\n",
    "  6.30554986e-05  2.24735329e-04  2.11736410e-04  1.05237092e-04\n",
    "  1.03417942e-04  2.10431365e-04  1.97819631e-04  1.84163000e-04\"\"\".split()]"
   ]
  },
  {
   "cell_type": "code",
   "execution_count": 14,
   "metadata": {},
   "outputs": [],
   "source": [
    "grad_lab_weak=  [float(n) for n in \"\"\"\"\"\".split()]\n",
    "\n",
    "Heis_eig_lab_weak=  [float(n) for n in \"\"\"\"\"\".split()]"
   ]
  },
  {
   "cell_type": "code",
   "execution_count": null,
   "metadata": {},
   "outputs": [
    {
     "name": "stdout",
     "output_type": "stream",
     "text": [
      "Isotropic Heisenber couplings\n",
      "The l-infinity norm (maximum of absolute value) of the gradient and number of nagative eigenvalues of the Hessian matrix out of 40\n",
      "Rotating frame, strong couplings (six 9s fidelity)\n",
      "0.00148075484\n",
      "34\n",
      "Lab frame, strong couplings (Four 9s fidelity)\n",
      "0.00145633779\n",
      "38\n",
      "Rotating frame, weak couplings (Four 9s fidelity)\n",
      "0.000907313695\n",
      "24\n",
      "Lab frame, weak couplings (Four 9s fidelity)\n",
      "0.00224550493\n",
      "17\n"
     ]
    }
   ],
   "source": [
    "print(\"Dipole-dipole couplings\")\n",
    "print(\"The l-infinity norm (maximum of absolute value) of the gradient and number of nagative eigenvalues of the Hessian matrix out of 40\")\n",
    "print(\"Rotating frame, strong couplings (six 9s fidelity)\")\n",
    "print(np.linalg.norm(grad_rot, ord=np.inf))\n",
    "print(np.sum(np.array(Heis_eig_rot)<0))\n",
    "\n",
    "print(\"Rotating frame, weak couplings (Four 9s fidelity)\")\n",
    "print(np.linalg.norm(grad_weak, ord=np.inf))\n",
    "print(np.sum(np.array(Heis_eig_weak)<0))\n",
    "\n",
    "print(\"Lab frame, weak couplings (Four 9s fidelity)\")\n",
    "print(np.linalg.norm(grad_lab_weak, ord=np.inf))\n",
    "print(np.sum(np.array(Heis_eig_lab_weak)<0))"
   ]
  },
  {
   "cell_type": "code",
   "execution_count": 36,
   "metadata": {},
   "outputs": [
    {
     "data": {
      "image/png": "[encoded data removed]",
      "text/plain": [
       "<Figure size 720x504 with 1 Axes>"
      ]
     },
     "metadata": {
      "needs_background": "light"
     },
     "output_type": "display_data"
    },
    {
     "name": "stdout",
     "output_type": "stream",
     "text": [
      "0.00034317632760000024\n",
      "-0.00033804225399999995\n",
      "-0.0019442708309\n"
     ]
    }
   ],
   "source": [
    "bins=np.concatenate((-np.logspace(-2.5,-4.5, 20),np.logspace(-4.5,-2.5, 20)))\n",
    "fig, ax = plt.subplots(figsize =(10, 7))\n",
    "ax.hist([grad_rot,grad_weak,grad_lab_weak], label=[\"rot\",\"weak\",\"labWeak\"],bins=bins)\n",
    "# ax.hist(grad_weak,label='2',bins=bins) \n",
    "# ax.hist(grad_lab_weak,label='3',bins=bins)\n",
    "ax.set_xscale(\"symlog\",linthresh=1e-3) \n",
    "plt.legend()\n",
    "plt.show()\n",
    "\n",
    "print(sum(grad_rot))\n",
    "print(sum(grad_weak))\n",
    "print(sum(grad_lab_weak))"
   ]
  },
  {
   "cell_type": "code",
   "execution_count": 8,
   "metadata": {},
   "outputs": [
    {
     "data": {
      "image/png": "[encoded data removed]",
      "text/plain": [
       "<Figure size 720x504 with 1 Axes>"
      ]
     },
     "metadata": {
      "needs_background": "light"
     },
     "output_type": "display_data"
    },
    {
     "name": "stdout",
     "output_type": "stream",
     "text": [
      "-577.0298251849666\n",
      "-339.8948990035647\n"
     ]
    }
   ],
   "source": [
    "fig, ax = plt.subplots(figsize =(10, 7))\n",
    "ax.hist(Heis_eig_rot, label='1')\n",
    "ax.hist(Heis_eig_weak,label='2') \n",
    "plt.legend()\n",
    "plt.show()\n",
    "\n",
    "print(sum(Heis_eig_rot))\n",
    "print(sum(Heis_eig_weak))"
   ]
  },
  {
   "cell_type": "code",
   "execution_count": 12,
   "metadata": {},
   "outputs": [
    {
     "name": "stdout",
     "output_type": "stream",
     "text": [
      "<class 'numpy.ndarray'>\n"
     ]
    }
   ],
   "source": [
    "import numpy as np\n",
    "import numdifftools as nd\n",
    "\n",
    "rosen = lambda x : (1.-x[0])**2 + 105*(x[1]-x[0]**2)**2\n",
    "Hfun = nd.Hessian(rosen)\n",
    "h = Hfun([1, 1])\n",
    "print(type(h))"
   ]
  },
  {
   "cell_type": "code",
   "execution_count": 13,
   "metadata": {},
   "outputs": [
    {
     "data": {
      "text/plain": [
       "array([[ 842., -420.],\n",
       "       [-420.,  210.]])"
      ]
     },
     "execution_count": 13,
     "metadata": {},
     "output_type": "execute_result"
    }
   ],
   "source": [
    "h"
   ]
  },
  {
   "cell_type": "code",
   "execution_count": null,
   "metadata": {},
   "outputs": [],
   "source": []
  }
 ],
 "metadata": {
  "kernelspec": {
   "display_name": "base",
   "language": "python",
   "name": "python3"
  },
  "language_info": {
   "codemirror_mode": {
    "name": "ipython",
    "version": 3
   },
   "file_extension": ".py",
   "mimetype": "text/x-python",
   "name": "python",
   "nbconvert_exporter": "python",
   "pygments_lexer": "ipython3",
   "version": "3.7.7 (default, May  6 2020, 04:59:01) \n[Clang 4.0.1 (tags/RELEASE_401/final)]"
  },
  "orig_nbformat": 4,
  "vscode": {
   "interpreter": {
    "hash": "702350541321a2f0d6ee5689c760d1f3e12a6e5a69204819bb813b28aabd20d3"
   }
  }
 },
 "nbformat": 4,
 "nbformat_minor": 2
}
